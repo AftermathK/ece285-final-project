{
 "cells": [
  {
   "cell_type": "code",
   "execution_count": 1,
   "metadata": {},
   "outputs": [],
   "source": [
    "import os\n",
    "import sys\n",
    "import time\n",
    "import cv2\n",
    "from yolo3_demo.utils import *\n",
    "from yolo3_demo.darknet import Darknet\n",
    "from PIL import Image, ImageDraw\n",
    "\n",
    "\n",
    "def get_bbox(cfgfile, weightfile, img):\n",
    "\n",
    "    m = Darknet(cfgfile)\n",
    "\n",
    "    #m.print_network()\n",
    "    m.load_weights(weightfile)\n",
    "\n",
    "    num_classes = 80\n",
    "    if num_classes == 20:\n",
    "        namesfile = 'yolo3/data/voc.names'\n",
    "    elif num_classes == 80:\n",
    "        namesfile = 'yolo3/data/coco.names'\n",
    "    else:\n",
    "        namesfile = 'yolo3/data/names'\n",
    "\n",
    "    use_cuda = 0\n",
    "    if use_cuda:\n",
    "        m.cuda()\n",
    "       \n",
    "    sized = img.resize((m.width, m.height))\n",
    "\n",
    "    for i in range(2):\n",
    "        t_start = time.time()\n",
    "        boxes = do_detect(m, sized, 0.5, 0.4, use_cuda)\n",
    "        t_finish = time.time()\n",
    "\n",
    "\n",
    "    total_time = t_finish-t_start\n",
    "    class_names = load_class_names(namesfile)\n",
    "    \n",
    "    #print(type(boxes))\n",
    "    #print(boxes)\n",
    "    return ret_boxes(sized, boxes, None, class_names)"
   ]
  },
  {
   "cell_type": "code",
   "execution_count": 4,
   "metadata": {
    "scrolled": false
   },
   "outputs": [
    {
     "name": "stdout",
     "output_type": "stream",
     "text": [
      "12\n"
     ]
    }
   ],
   "source": [
    "cfg_file = 'yolo3/cfg/yolov3.cfg'\n",
    "weight_file = 'yolo3/yolov3.weights'\n",
    "test_img_one = Image.open(\"DemoImages/camera6_4208.png\").convert('RGB')\n",
    "\n",
    "all_objs = get_bbox(cfg_file, weight_file, test_img_one)\n",
    "print(len(all_objs))\n"
   ]
  },
  {
   "cell_type": "code",
   "execution_count": null,
   "metadata": {},
   "outputs": [],
   "source": []
  }
 ],
 "metadata": {
  "kernelspec": {
   "display_name": "Python 3",
   "language": "python",
   "name": "python3"
  },
  "language_info": {
   "codemirror_mode": {
    "name": "ipython",
    "version": 3
   },
   "file_extension": ".py",
   "mimetype": "text/x-python",
   "name": "python",
   "nbconvert_exporter": "python",
   "pygments_lexer": "ipython3",
   "version": "3.6.8"
  }
 },
 "nbformat": 4,
 "nbformat_minor": 2
}
